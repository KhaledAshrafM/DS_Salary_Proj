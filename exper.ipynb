{
 "cells": [
  {
   "cell_type": "code",
   "execution_count": 115,
   "metadata": {},
   "outputs": [],
   "source": [
    "import time\n",
    "import pandas as pd \n",
    "df = pd.read_csv('data/glassdoor_jobs.csv')\n",
    "\n",
    "# 1-salary parsing\n",
    "\n",
    "df['hourly'] = df['Salary Estimate'].apply(lambda x: 1 if 'per hour' in x.lower() else 0)\n",
    "df['employer'] = df['Salary Estimate'].apply(lambda x: 1 if \"employer provided salary\" in x.lower() else 0)\n",
    "\n",
    "df = df[df['Salary Estimate'] != '-1']\n",
    "salary = df['Salary Estimate'].apply(lambda x: x.split(\"(\")[0])\n",
    "minus_kd = salary.apply(lambda x: x.replace(\"K\", \"\").replace(\"$\", \"\"))\n",
    "\n",
    "minus_hr = minus_kd.apply(lambda x: x.lower().replace(\"per hour\", \"\").replace(\"employer provided salary:\", \"\"))\n",
    "\n",
    "df[\"min_salary\"], df[\"max_salary\"] = minus_hr.apply(lambda x: int(x.split(\"-\")[0])), minus_hr.apply(lambda x: int(x.split(\"-\")[1]))\n",
    "df[\"avg_salary\"] = (df[\"min_salary\"] + df[\"max_salary\"]) / 2\n",
    "df[\"avg_salary\"]\n",
    "\n",
    "# 2- Company name text only\n",
    "df[\"company_name\"] = df.apply(lambda x: x[\"Company Name\"].replace(\"\\n\", \"\") if x[\"Rating\"] < 0 else x[\"Company Name\"][:-3].replace(\"\\n\", \"\"), axis=1)\n",
    "\n",
    "# 3- State field\n",
    "df[\"job_state\"] = df[\"Location\"].apply(lambda x: x.split(',')[1])\n",
    "df[\"job_state\"].value_counts()\n",
    "\n",
    "df[\"same_state\"] = df.apply(lambda x: 1 if x[\"Location\"] == x[\"Headquarters\"] else 0, axis=1)\n",
    "# 4- Age of company\n",
    "df[\"age_of_company\"] = df[\"Founded\"].apply(lambda x: x if x < 0 else 2024-x)\n",
    "\n",
    "# 5- Parsing of job description (python, etc.)\n",
    "## Check for Python\n",
    "df[\"Python\"] = df[\"Job Description\"].apply(lambda x: 1 if \"python\" in x.lower() else 0)\n",
    "## Check for Machine learning\n",
    "df[\"ML\"] = df[\"Job Description\"].apply(lambda x: 1 if \"ml\" in x.lower() or \"machine learning\" in x.lower() else 0)\n",
    "## Check for Deep Learning\n",
    "df[\"DL\"] = df[\"Job Description\"].apply(lambda x: 1 if \"dl\" in x.lower() or \"deep learning\" in x.lower() else 0)\n",
    "## Check for Spark\n",
    "df[\"Spark\"] = df[\"Job Description\"].apply(lambda x: 1 if \"spark\" in x.lower() else 0)\n",
    "## Check for AWS\n",
    "df[\"AWS\"] = df[\"Job Description\"].apply(lambda x: 1 if \"aws\" in x.lower() else 0)\n",
    "## Check for Excel\n",
    "df[\"Excel\"] = df[\"Job Description\"].apply(lambda x: 1 if \"excel\" in x.lower() else 0)\n",
    "## Check for masters\n",
    "df[\"MS\"] = df[\"Job Description\"].apply(lambda x: 1 if \"masters\" in x.lower() else 0)\n",
    "# Final output\n",
    "df_final = df.drop('Unnamed: 0', axis=1)\n",
    "df_final.to_csv(\"salary_data_cleaned.csv\", index=False)"
   ]
  },
  {
   "cell_type": "code",
   "execution_count": 96,
   "metadata": {},
   "outputs": [
    {
     "data": {
      "text/plain": [
       "\"Data Scientist\\nAffinity Solutions / Marketing Cloud seeks smart, curious, technically savvy candidates to join our cutting-edge data science team. We hire the best and brightest and give them the opportunity to work on industry-leading technologies.\\nThe data sciences team at AFS/Marketing Cloud build models, machine learning algorithms that power all our ad-tech/mar-tech products at scale, develop methodology and tools to precisely and effectively measure market campaign effects, and research in-house and public data sources for consumer spend behavior insights. In this role, you'll have the opportunity to come up with new ideas and solutions that will lead to improvement of our ability to target the right audience, derive insights and provide better measurement methodology for marketing campaigns. You'll access our core data asset and machine learning infrastructure to power your ideas.\\nDuties and Responsibilities\\n· Support all clients model building needs, including maintaining and improving current modeling/scoring methodology and processes,\\n· Provide innovative solutions to customized modeling/scoring/targeting with appropriate ML/statistical tools,\\n· Provide analytical/statistical support such as marketing test design, projection, campaign measurement, market insights to clients and stakeholders.\\n· Mine large consumer datasets in the cloud environment to support ad hoc business and statistical analysis,\\n· Develop and Improve automation capabilities to enable customized delivery of the analytical products to clients,\\n· Communicate the methodologies and the results to the management, clients and none technical stakeholders.\\nBasic Qualifications\\n· Advanced degree in Statistics/Mathematics/Computer Science/Economics or other fields that requires advanced training in data analytics.\\n· Being able to apply basic statistical/ML concepts and reasoning to address and solve business problems such as targeting, test design, KPI projection and performance measurement.\\n· Entrepreneurial, highly self-motivated, collaborative, keen attention to detail, willingness and capable learn quickly, and ability to effectively prioritize and execute tasks in a high pressure environment.\\n· Being flexible to accept different task assignments and able to work on a tight time schedule.\\n· Excellent command of one or more programming languages; preferably Python, SAS or R\\n· Familiar with one of the database technologies such as PostgreSQL, MySQL, can write basic SQL queries\\n· Great communication skills (verbal, written and presentation)\\nPreferred Qualifications\\n· Experience or exposure to large consumer and/or demographic data sets.\\n· Familiarity with data manipulation and cleaning routines and techniques.\""
      ]
     },
     "execution_count": 96,
     "metadata": {},
     "output_type": "execute_result"
    }
   ],
   "source": [
    "df[\"Job Description\"][4]"
   ]
  },
  {
   "cell_type": "code",
   "execution_count": 114,
   "metadata": {},
   "outputs": [
    {
     "data": {
      "text/plain": [
       "MS\n",
       "0    678\n",
       "1     64\n",
       "Name: count, dtype: int64"
      ]
     },
     "execution_count": 114,
     "metadata": {},
     "output_type": "execute_result"
    }
   ],
   "source": [
    "df[\"MS\"].value_counts()"
   ]
  },
  {
   "cell_type": "code",
   "execution_count": 123,
   "metadata": {},
   "outputs": [],
   "source": []
  },
  {
   "cell_type": "code",
   "execution_count": 121,
   "metadata": {},
   "outputs": [
    {
     "data": {
      "text/plain": [
       "Index(['Unnamed: 0', 'Job Title', 'Salary Estimate', 'Job Description',\n",
       "       'Rating', 'Company Name', 'Location', 'Headquarters', 'Size', 'Founded',\n",
       "       'Type of ownership', 'Industry', 'Sector', 'Revenue', 'Competitors',\n",
       "       'hourly', 'employer', 'min_salary', 'max_salary', 'avg_salary',\n",
       "       'company_name', 'job_state', 'same_state', 'age_of_company', 'Python',\n",
       "       'ML', 'DL', 'Spark', 'AWS', 'Excel', 'MS'],\n",
       "      dtype='object')"
      ]
     },
     "execution_count": 121,
     "metadata": {},
     "output_type": "execute_result"
    }
   ],
   "source": [
    "df.columns"
   ]
  },
  {
   "cell_type": "code",
   "execution_count": null,
   "metadata": {},
   "outputs": [],
   "source": []
  }
 ],
 "metadata": {
  "kernelspec": {
   "display_name": "Python 3 (ipykernel)",
   "language": "python",
   "name": "python3"
  },
  "language_info": {
   "codemirror_mode": {
    "name": "ipython",
    "version": 3
   },
   "file_extension": ".py",
   "mimetype": "text/x-python",
   "name": "python",
   "nbconvert_exporter": "python",
   "pygments_lexer": "ipython3",
   "version": "3.10.12"
  }
 },
 "nbformat": 4,
 "nbformat_minor": 4
}
